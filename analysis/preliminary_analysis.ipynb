{
 "cells": [
  {
   "cell_type": "code",
   "execution_count": 1,
   "metadata": {
    "ExecuteTime": {
     "end_time": "2019-11-05T19:29:44.248208Z",
     "start_time": "2019-11-05T19:29:44.105369Z"
    }
   },
   "outputs": [
    {
     "name": "stdout",
     "output_type": "stream",
     "text": [
      "Populating the interactive namespace from numpy and matplotlib\n"
     ]
    }
   ],
   "source": [
    "%pylab inline"
   ]
  },
  {
   "cell_type": "code",
   "execution_count": 30,
   "metadata": {
    "ExecuteTime": {
     "end_time": "2019-11-05T19:42:12.004319Z",
     "start_time": "2019-11-05T19:42:11.987226Z"
    },
    "collapsed": true
   },
   "outputs": [],
   "source": [
    "import pandas as pd\n",
    "import gzip\n",
    "import csv\n",
    "import os\n",
    "from glob import glob\n",
    "try:\n",
    "    import cPickle as pickle\n",
    "except ImportError:\n",
    "    import pickle\n",
    "import seaborn as sn\n",
    "sn.set_context(\"poster\")"
   ]
  },
  {
   "cell_type": "code",
   "execution_count": 12,
   "metadata": {
    "ExecuteTime": {
     "end_time": "2019-11-05T19:35:01.756772Z",
     "start_time": "2019-11-05T19:35:01.645356Z"
    }
   },
   "outputs": [
    {
     "name": "stdout",
     "output_type": "stream",
     "text": [
      "\u001b[0m\u001b[01;34m101\u001b[0m/  \u001b[01;34m102\u001b[0m/  \u001b[01;34m103\u001b[0m/  \u001b[01;34m104\u001b[0m/\r\n"
     ]
    }
   ],
   "source": [
    "ls ../data/obfuscate/\n"
   ]
  },
  {
   "cell_type": "markdown",
   "metadata": {
    "ExecuteTime": {
     "end_time": "2019-11-05T19:31:39.881343Z",
     "start_time": "2019-11-05T19:31:39.876417Z"
    }
   },
   "source": [
    "# Load Functions"
   ]
  },
  {
   "cell_type": "code",
   "execution_count": 6,
   "metadata": {
    "ExecuteTime": {
     "end_time": "2019-11-05T19:31:19.506106Z",
     "start_time": "2019-11-05T19:31:19.366433Z"
    },
    "collapsed": true
   },
   "outputs": [],
   "source": [
    "\n",
    "class LogReader(object):\n",
    "    \"\"\"An object that handles reading from .slog files.\n",
    "\n",
    "    Passing in a filename, by calling **ReadRecord** you can read on\n",
    "    row from the .slog file.\n",
    "\n",
    "    Parameters\n",
    "    ----------\n",
    "    filename : string\n",
    "        The name of the .slog that you wish to read.\n",
    "    unwrap : boolean\n",
    "        Whether to unwrap sub-dicts and tuples when reading.\n",
    "    append_columns : dict\n",
    "        Additional columns to add to each record.\n",
    "    \"\"\"\n",
    "    def __init__(self, filename, unwrap=False, **append_columns):\n",
    "        # set the file\n",
    "        self._file = gzip.open(filename, \"rb\")\n",
    "\n",
    "        # save whether we should unwrap when reading\n",
    "        self._unwrap = unwrap\n",
    "\n",
    "        # save additional columns to append\n",
    "        self._append_columns = append_columns\n",
    "\n",
    "        # set up the unpickler\n",
    "        self._unpickler = pickle.Unpickler(self._file)\n",
    "\n",
    "    def read_record(self):\n",
    "        \"\"\"Returns a dicitionary with the field names as keys.\n",
    "        \"\"\"\n",
    "        try:\n",
    "            # get the dict\n",
    "            rec = self._unpickler.load()\n",
    "\n",
    "            # unwrap it\n",
    "            if self._unwrap:\n",
    "                rec = _unwrap(rec)\n",
    "\n",
    "            # append additional cols\n",
    "            rec.update(self._append_columns)\n",
    "\n",
    "            # return it\n",
    "            return rec\n",
    "        except EOFError:\n",
    "            return None\n",
    "\n",
    "    def close(self):\n",
    "        self._file.close()\n",
    "\n",
    "    def __iter__(self):\n",
    "        record = self.read_record()\n",
    "        while record is not None:\n",
    "            yield record\n",
    "            record = self.read_record()\n",
    "        self.close()\n",
    "\n",
    "\n",
    "def _unwrap(d, prefix=''):\n",
    "    \"\"\"Process the items of a dict and unwrap them to the top level based\n",
    "    on the key names.\n",
    "\n",
    "    \"\"\"\n",
    "    new_item = {}\n",
    "    for k in d:\n",
    "        # add prefix\n",
    "        key = prefix+k\n",
    "\n",
    "        # see if dict\n",
    "        if isinstance(d[k], dict):\n",
    "            new_item.update(_unwrap(d[k], prefix=key+'_'))\n",
    "            continue\n",
    "\n",
    "        # see if tuple/list\n",
    "        if isinstance(d[k], (tuple, list)):\n",
    "            # turn into indexed dict\n",
    "            tdict = {}\n",
    "            for j in range(len(d[k])):\n",
    "                tdict[str(j)] = d[k][j]\n",
    "            new_item.update(_unwrap(tdict, prefix=key+'_'))\n",
    "            continue\n",
    "\n",
    "        # just add it in\n",
    "        new_item[key] = d[k]\n",
    "\n",
    "    return new_item\n",
    "\n",
    "\n",
    "def _root_to_files(log_filename):\n",
    "    \"\"\"Get set of slogs from root.\"\"\"\n",
    "    if os.path.exists(log_filename):\n",
    "        # there is just one\n",
    "        log_files = [log_filename]\n",
    "    else:\n",
    "        # try appending numbers\n",
    "        log_files = []\n",
    "        for distinguisher in xrange(256):\n",
    "            filename = \"%s_%d.slog\" % (log_filename,\n",
    "                                       distinguisher)\n",
    "            if os.path.exists(filename):\n",
    "                log_files.append(filename)\n",
    "            else:\n",
    "                break\n",
    "    return log_files\n",
    "\n",
    "\n",
    "def log2dl(log_filename, unwrap=True, **append_columns):\n",
    "    \"\"\"Convert slog files to list of dicts (a dict-list).\n",
    "\n",
    "    Parameters\n",
    "    ----------\n",
    "    log_filename : string\n",
    "        Either a full filename with the slog extension or base\n",
    "        name with everything up to the numerical index of a log,\n",
    "        such as 'log_study', which will use the same algorithm\n",
    "        that saved the files each time the experiment was run in\n",
    "        in order to loop and read them all in.\n",
    "    unwrap : boolean\n",
    "        Whether to unwrap logged lists and dictionaries into a\n",
    "        single row. e.g., 'log': {'time':10, 'error':.001} would\n",
    "        turn into two columns: 'log_time' and 'log_error'.\n",
    "    append_columns : kwargs\n",
    "        Columns to add the same value to each row. Useful for adding\n",
    "        a subject id to the data.\n",
    "\n",
    "    Examples\n",
    "    --------\n",
    "    This method is particularly useful for loading data for analysis\n",
    "    with Pandas. This example will load all logs that begin with\n",
    "    \"log_study\" into a Pandas DataFrame, adding in a column for\n",
    "    subject:\n",
    "\n",
    "    ..\n",
    "        import pandas as pd\n",
    "        df = pd.DataFrame(log2dl('log_study', subject='exp001'))\n",
    "\n",
    "    \"\"\"\n",
    "    # determine set of slogs\n",
    "    log_files = _root_to_files(log_filename)\n",
    "    if len(log_files) == 0:\n",
    "        raise IOError(\"No matching slog files found.\")\n",
    "\n",
    "    # loop over slogs pulling out dicts\n",
    "    dl = []\n",
    "    for i, slog in enumerate(log_files):\n",
    "        append_columns.update({'log_num': i})\n",
    "        dl.extend([r for r in\n",
    "                   LogReader(slog,\n",
    "                             unwrap=unwrap,\n",
    "                             **append_columns)])\n",
    "    return dl\n"
   ]
  },
  {
   "cell_type": "markdown",
   "metadata": {},
   "source": [
    "# Load Data"
   ]
  },
  {
   "cell_type": "code",
   "execution_count": 87,
   "metadata": {
    "ExecuteTime": {
     "end_time": "2019-11-05T20:13:40.801457Z",
     "start_time": "2019-11-05T20:13:40.732433Z"
    }
   },
   "outputs": [
    {
     "name": "stdout",
     "output_type": "stream",
     "text": [
      "Subject: 101\n",
      "Subject: 104\n",
      "Subject: 102\n",
      "Subject: 103\n"
     ]
    }
   ],
   "source": [
    "data_dir = os.path.join(\"..\", \"data\", \"obfuscate\")\n",
    "subj_paths = glob(os.path.join(data_dir, \"*\"))\n",
    "data = []\n",
    "dropped_subj = []\n",
    "num_prime = 2\n",
    "num_rec = 2\n",
    "\n",
    "for sp in subj_paths:\n",
    "    \n",
    "    print(\"Subject: %s\" % (sp[sp.rfind(\"/\") + 1:]))\n",
    "    if not (sp[sp.rfind(\"/\") + 1:] in dropped_subj):\n",
    "        for dlp in glob(os.path.join(sp, \"*\", \"log_TEST*.slog\")):\n",
    "            temp = pd.DataFrame(log2dl(dlp, \n",
    "                                       subj=sp[sp.rfind(\"/\") + 1:]))\n",
    "            # get rid of instructions trials\n",
    "            temp = temp[temp.cond != \"INST\"]\n",
    "\n",
    "            # get rid of prime and rec\n",
    "            temp = temp.iloc[num_prime: -num_rec]\n",
    "            data.append(temp)\n",
    "data = pd.concat(data)"
   ]
  },
  {
   "cell_type": "markdown",
   "metadata": {},
   "source": [
    "# Clean Data"
   ]
  },
  {
   "cell_type": "code",
   "execution_count": 88,
   "metadata": {
    "ExecuteTime": {
     "end_time": "2019-11-05T20:14:24.189464Z",
     "start_time": "2019-11-05T20:14:24.167263Z"
    }
   },
   "outputs": [],
   "source": [
    "data['correct'] = (data.corr_resp == data.oldnew_pressed)\n",
    "data['confidence'] = np.zeros_like(data.shape[0])\n",
    "\n",
    "conf_dict = {'S': \"0%\", 'D': \"20%\", 'F': \"40%\", \n",
    "             'J': \"60%\", 'K': \"80%\", 'L': \"100%\"}\n",
    "for l in conf_dict.keys():\n",
    "    data.loc[data.conf_pressed == l, \"confidence\"] = conf_dict[l]"
   ]
  },
  {
   "cell_type": "markdown",
   "metadata": {},
   "source": [
    "# View Data"
   ]
  },
  {
   "cell_type": "code",
   "execution_count": 89,
   "metadata": {
    "ExecuteTime": {
     "end_time": "2019-11-05T20:14:24.832482Z",
     "start_time": "2019-11-05T20:14:24.794440Z"
    }
   },
   "outputs": [
    {
     "data": {
      "text/html": [
       "<div>\n",
       "<style scoped>\n",
       "    .dataframe tbody tr th:only-of-type {\n",
       "        vertical-align: middle;\n",
       "    }\n",
       "\n",
       "    .dataframe tbody tr th {\n",
       "        vertical-align: top;\n",
       "    }\n",
       "\n",
       "    .dataframe thead th {\n",
       "        text-align: right;\n",
       "    }\n",
       "</style>\n",
       "<table border=\"1\" class=\"dataframe\">\n",
       "  <thead>\n",
       "    <tr style=\"text-align: right;\">\n",
       "      <th></th>\n",
       "      <th>cond</th>\n",
       "      <th>conf_appear_time_error</th>\n",
       "      <th>conf_appear_time_time</th>\n",
       "      <th>conf_base_time</th>\n",
       "      <th>conf_pressed</th>\n",
       "      <th>conf_rt</th>\n",
       "      <th>corr_resp</th>\n",
       "      <th>encode_cond</th>\n",
       "      <th>log_num</th>\n",
       "      <th>log_time</th>\n",
       "      <th>oldnew_base_time</th>\n",
       "      <th>oldnew_pressed</th>\n",
       "      <th>oldnew_rt</th>\n",
       "      <th>stim</th>\n",
       "      <th>stim_appear_time_error</th>\n",
       "      <th>stim_appear_time_time</th>\n",
       "      <th>subj</th>\n",
       "      <th>correct</th>\n",
       "      <th>confidence</th>\n",
       "    </tr>\n",
       "  </thead>\n",
       "  <tbody>\n",
       "    <tr>\n",
       "      <th>2</th>\n",
       "      <td>OLD</td>\n",
       "      <td>0.0</td>\n",
       "      <td>389.963671</td>\n",
       "      <td>389.963671</td>\n",
       "      <td>K</td>\n",
       "      <td>1.260768</td>\n",
       "      <td>F</td>\n",
       "      <td>OBS</td>\n",
       "      <td>0</td>\n",
       "      <td>391.224439</td>\n",
       "      <td>386.159077</td>\n",
       "      <td>F</td>\n",
       "      <td>3.784523</td>\n",
       "      <td>.\\assets\\stim\\recog\\rec_28.jpg</td>\n",
       "      <td>0.0</td>\n",
       "      <td>386.159077</td>\n",
       "      <td>104</td>\n",
       "      <td>True</td>\n",
       "      <td>80%</td>\n",
       "    </tr>\n",
       "    <tr>\n",
       "      <th>3</th>\n",
       "      <td>NEW</td>\n",
       "      <td>0.0</td>\n",
       "      <td>394.205803</td>\n",
       "      <td>394.205803</td>\n",
       "      <td>F</td>\n",
       "      <td>0.954655</td>\n",
       "      <td>J</td>\n",
       "      <td>OBS</td>\n",
       "      <td>0</td>\n",
       "      <td>395.160458</td>\n",
       "      <td>391.635769</td>\n",
       "      <td>J</td>\n",
       "      <td>2.515792</td>\n",
       "      <td>.\\assets\\stim\\recog\\rec_20.jpg</td>\n",
       "      <td>0.0</td>\n",
       "      <td>391.635769</td>\n",
       "      <td>104</td>\n",
       "      <td>True</td>\n",
       "      <td>40%</td>\n",
       "    </tr>\n",
       "    <tr>\n",
       "      <th>4</th>\n",
       "      <td>OLD</td>\n",
       "      <td>0.0</td>\n",
       "      <td>397.867796</td>\n",
       "      <td>397.867796</td>\n",
       "      <td>L</td>\n",
       "      <td>2.508060</td>\n",
       "      <td>F</td>\n",
       "      <td>OBS</td>\n",
       "      <td>0</td>\n",
       "      <td>400.375856</td>\n",
       "      <td>395.570029</td>\n",
       "      <td>F</td>\n",
       "      <td>2.214513</td>\n",
       "      <td>.\\assets\\stim\\recog\\rec_56.jpg</td>\n",
       "      <td>0.0</td>\n",
       "      <td>395.570029</td>\n",
       "      <td>104</td>\n",
       "      <td>True</td>\n",
       "      <td>100%</td>\n",
       "    </tr>\n",
       "    <tr>\n",
       "      <th>5</th>\n",
       "      <td>NEW</td>\n",
       "      <td>0.0</td>\n",
       "      <td>408.427583</td>\n",
       "      <td>408.427583</td>\n",
       "      <td>J</td>\n",
       "      <td>2.188878</td>\n",
       "      <td>J</td>\n",
       "      <td>OBS</td>\n",
       "      <td>0</td>\n",
       "      <td>410.616461</td>\n",
       "      <td>400.786385</td>\n",
       "      <td>F</td>\n",
       "      <td>7.621861</td>\n",
       "      <td>.\\assets\\stim\\recog\\rec_04.jpg</td>\n",
       "      <td>0.0</td>\n",
       "      <td>400.786385</td>\n",
       "      <td>104</td>\n",
       "      <td>False</td>\n",
       "      <td>60%</td>\n",
       "    </tr>\n",
       "    <tr>\n",
       "      <th>6</th>\n",
       "      <td>NEW</td>\n",
       "      <td>0.0</td>\n",
       "      <td>416.077472</td>\n",
       "      <td>416.077472</td>\n",
       "      <td>J</td>\n",
       "      <td>1.449425</td>\n",
       "      <td>J</td>\n",
       "      <td>OBS</td>\n",
       "      <td>0</td>\n",
       "      <td>417.526896</td>\n",
       "      <td>411.021461</td>\n",
       "      <td>J</td>\n",
       "      <td>5.018743</td>\n",
       "      <td>.\\assets\\stim\\recog\\rec_12.jpg</td>\n",
       "      <td>0.0</td>\n",
       "      <td>411.021461</td>\n",
       "      <td>104</td>\n",
       "      <td>True</td>\n",
       "      <td>60%</td>\n",
       "    </tr>\n",
       "  </tbody>\n",
       "</table>\n",
       "</div>"
      ],
      "text/plain": [
       "  cond  conf_appear_time_error  conf_appear_time_time  conf_base_time  \\\n",
       "2  OLD                     0.0             389.963671      389.963671   \n",
       "3  NEW                     0.0             394.205803      394.205803   \n",
       "4  OLD                     0.0             397.867796      397.867796   \n",
       "5  NEW                     0.0             408.427583      408.427583   \n",
       "6  NEW                     0.0             416.077472      416.077472   \n",
       "\n",
       "  conf_pressed   conf_rt corr_resp encode_cond  log_num    log_time  \\\n",
       "2            K  1.260768         F         OBS        0  391.224439   \n",
       "3            F  0.954655         J         OBS        0  395.160458   \n",
       "4            L  2.508060         F         OBS        0  400.375856   \n",
       "5            J  2.188878         J         OBS        0  410.616461   \n",
       "6            J  1.449425         J         OBS        0  417.526896   \n",
       "\n",
       "   oldnew_base_time oldnew_pressed  oldnew_rt                            stim  \\\n",
       "2        386.159077              F   3.784523  .\\assets\\stim\\recog\\rec_28.jpg   \n",
       "3        391.635769              J   2.515792  .\\assets\\stim\\recog\\rec_20.jpg   \n",
       "4        395.570029              F   2.214513  .\\assets\\stim\\recog\\rec_56.jpg   \n",
       "5        400.786385              F   7.621861  .\\assets\\stim\\recog\\rec_04.jpg   \n",
       "6        411.021461              J   5.018743  .\\assets\\stim\\recog\\rec_12.jpg   \n",
       "\n",
       "   stim_appear_time_error  stim_appear_time_time subj  correct confidence  \n",
       "2                     0.0             386.159077  104     True        80%  \n",
       "3                     0.0             391.635769  104     True        40%  \n",
       "4                     0.0             395.570029  104     True       100%  \n",
       "5                     0.0             400.786385  104    False        60%  \n",
       "6                     0.0             411.021461  104     True        60%  "
      ]
     },
     "execution_count": 89,
     "metadata": {},
     "output_type": "execute_result"
    }
   ],
   "source": [
    "data.head()"
   ]
  },
  {
   "cell_type": "code",
   "execution_count": 90,
   "metadata": {
    "ExecuteTime": {
     "end_time": "2019-11-05T20:14:26.016294Z",
     "start_time": "2019-11-05T20:14:25.882828Z"
    }
   },
   "outputs": [
    {
     "data": {
      "text/plain": [
       "<matplotlib.axes._subplots.AxesSubplot at 0x7f03a1603828>"
      ]
     },
     "execution_count": 90,
     "metadata": {},
     "output_type": "execute_result"
    },
    {
     "data": {
      "image/png": "[encoded data removed]",
      "text/plain": [
       "<Figure size 720x720 with 1 Axes>"
      ]
     },
     "metadata": {},
     "output_type": "display_data"
    }
   ],
   "source": [
    "fig = figure(figsize=(10,10))\n",
    "sn.barplot(data=data, x='cond', y=\"correct\", hue=\"encode_cond\")"
   ]
  },
  {
   "cell_type": "code",
   "execution_count": 92,
   "metadata": {
    "ExecuteTime": {
     "end_time": "2019-11-05T20:14:39.294292Z",
     "start_time": "2019-11-05T20:14:39.039494Z"
    }
   },
   "outputs": [
    {
     "data": {
      "text/plain": [
       "Text(0,0.5,'Percent Correct')"
      ]
     },
     "execution_count": 92,
     "metadata": {},
     "output_type": "execute_result"
    },
    {
     "data": {
      "image/png": "[encoded data removed]",
      "text/plain": [
       "<Figure size 1080x720 with 1 Axes>"
      ]
     },
     "metadata": {},
     "output_type": "display_data"
    }
   ],
   "source": [
    "fig = figure(figsize=(15,10))\n",
    "ax = sn.barplot(data=data, x=\"encode_cond\", y=\"correct\",\n",
    "                hue=\"confidence\", hue_order=[\"0%\", \"20%\", \"40%\", \n",
    "                                             \"60%\", \"80%\", \"100%\",])\n",
    "ax.set_xlabel(\"Encoding Condition\")\n",
    "ax.set_ylabel(\"Percent Correct\")"
   ]
  },
  {
   "cell_type": "code",
   "execution_count": null,
   "metadata": {
    "collapsed": true
   },
   "outputs": [],
   "source": []
  }
 ],
 "metadata": {
  "kernelspec": {
   "display_name": "Python 3",
   "language": "python",
   "name": "python3"
  },
  "language_info": {
   "codemirror_mode": {
    "name": "ipython",
    "version": 3
   },
   "file_extension": ".py",
   "mimetype": "text/x-python",
   "name": "python",
   "nbconvert_exporter": "python",
   "pygments_lexer": "ipython3",
   "version": "3.6.8"
  },
  "toc": {
   "nav_menu": {
    "height": "125px",
    "width": "160px"
   },
   "number_sections": true,
   "sideBar": true,
   "skip_h1_title": false,
   "title_cell": "Table of Contents",
   "title_sidebar": "Contents",
   "toc_cell": false,
   "toc_position": {},
   "toc_section_display": true,
   "toc_window_display": false
  }
 },
 "nbformat": 4,
 "nbformat_minor": 2
}
